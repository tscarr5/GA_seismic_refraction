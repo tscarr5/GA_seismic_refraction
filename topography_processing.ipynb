{
 "cells": [
  {
   "cell_type": "code",
   "execution_count": 6,
   "id": "6d4b903d-b969-458b-9a0a-e1c9733defbb",
   "metadata": {},
   "outputs": [],
   "source": [
    "import pandas as pd\n",
    "import numpy as np\n",
    "\n",
    "# Load the file (assuming comma-delimited)\n",
    "df = pd.read_csv(\"TEST_symaug25A.txt\", header=None,usecols=[0, 1, 2, 3])\n",
    "\n",
    "df.columns = ['ID', 'Y', 'X', 'Z']\n",
    "\n",
    "\n",
    "# Separate nodes and shots\n",
    "nodes = df[df[\"ID\"].str.startswith(\"N\")].copy()\n",
    "shots = df[df[\"ID\"].str.startswith(\"S\")].copy()\n",
    "\n",
    "# Format IDs for consistency\n",
    "nodes[\"ID\"] = nodes[\"ID\"].str.extract(r'N(\\d+)')[0].astype(int).apply(lambda x: f'node_{x:02d}')\n",
    "shots[\"ID\"] = shots[\"ID\"].str.extract(r'S(\\d+)')[0].astype(int).apply(lambda x: f'shot_{x:02d}')\n",
    "\n",
    "nodes = nodes.drop(columns=[\"Y\", \"ID\"])    # coordinates list compatible with pygimli\n",
    "shots = shots.drop(columns=[\"Y\", \"ID\"])\n",
    "nodes.to_csv('nodes_coord_for_gimli.txt', sep='\\t', index=False)\n",
    "shots.to_csv(\"shots_coord_for_gimli.txt\", sep = \"\\t\", index=False)\n"
   ]
  },
  {
   "cell_type": "code",
   "execution_count": 1,
   "id": "6cd1fbca-5000-4f63-8025-f0f9a9742fcd",
   "metadata": {},
   "outputs": [
    {
     "data": {
      "text/plain": [
       "43332.66"
      ]
     },
     "execution_count": 1,
     "metadata": {},
     "output_type": "execute_result"
    }
   ],
   "source": [
    "42483*1.02"
   ]
  }
 ],
 "metadata": {
  "kernelspec": {
   "display_name": "pg",
   "language": "python",
   "name": "pg"
  },
  "language_info": {
   "codemirror_mode": {
    "name": "ipython",
    "version": 3
   },
   "file_extension": ".py",
   "mimetype": "text/x-python",
   "name": "python",
   "nbconvert_exporter": "python",
   "pygments_lexer": "ipython3",
   "version": "3.11.13"
  }
 },
 "nbformat": 4,
 "nbformat_minor": 5
}
