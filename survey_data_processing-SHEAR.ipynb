{
 "cells": [
  {
   "cell_type": "code",
   "execution_count": 2,
   "id": "f5f77ea6-a011-4a4d-9967-3077abe1ae2c",
   "metadata": {},
   "outputs": [],
   "source": [
    "import obspy\n",
    "from obspy import read, Stream, UTCDateTime\n",
    "import glob\n",
    "import os\n",
    "import numpy as np\n",
    "import pandas as pd\n",
    "import datetime\n",
    "import matplotlib.pyplot\n",
    "import matplotlib\n",
    "import time\n"
   ]
  },
  {
   "cell_type": "code",
   "execution_count": null,
   "id": "88d6ce6d-eaa0-41bc-a230-adcc79f35846",
   "metadata": {},
   "outputs": [],
   "source": []
  },
  {
   "cell_type": "markdown",
   "id": "08842ccd-e8d6-41e5-8958-40169b869428",
   "metadata": {},
   "source": [
    "# Loading all data"
   ]
  },
  {
   "cell_type": "code",
   "execution_count": 4,
   "id": "abcab23c-0ed6-4cb8-b7be-999e0412806e",
   "metadata": {},
   "outputs": [
    {
     "name": "stdout",
     "output_type": "stream",
     "text": [
      "The task took 637.79 seconds.\n"
     ]
    }
   ],
   "source": [
    "#This takes a while - around 30 minutes!!\n",
    "\n",
    "node_streams = {}\n",
    "no_of_nodes = 47\n",
    "\n",
    "start_time = time.time()\n",
    "\n",
    "\n",
    "for filepath in glob.glob(\"GA_refraction_test/GA_refraction_test/GA-refraction-survey-labelled/*.E.segy\")[:no_of_nodes]:     #up to 47 doesn't inlcude our failsafe node\n",
    "    filename = os.path.basename(filepath) \n",
    "    node_id = filename[:7]\n",
    "    stream = read(filepath, format = \"SEGY\")\n",
    "    \n",
    "    for i, trace in enumerate(stream):\n",
    "        trace.stats.starttime += i * datetime.timedelta(seconds = 6) # NOT sure that the traces are automatically ordered.\n",
    "    stream.merge()\n",
    "    \n",
    "    node_streams[node_id] = stream\n",
    "\n",
    "end_time = time.time()\n",
    "elapsed_time = end_time - start_time\n",
    "print(f\"The task took {elapsed_time:.2f} seconds.\")"
   ]
  },
  {
   "cell_type": "code",
   "execution_count": 5,
   "id": "7b3553db-b41c-44bd-8eef-c1d748175cbd",
   "metadata": {},
   "outputs": [
    {
     "name": "stderr",
     "output_type": "stream",
     "text": [
      "C:\\Users\\u06008\\AppData\\Local\\Temp\\ipykernel_18828\\4156282284.py:6: SettingWithCopyWarning: \n",
      "A value is trying to be set on a copy of a slice from a DataFrame.\n",
      "Try using .loc[row_indexer,col_indexer] = value instead\n",
      "\n",
      "See the caveats in the documentation: https://pandas.pydata.org/pandas-docs/stable/user_guide/indexing.html#returning-a-view-versus-a-copy\n",
      "  nodes_coords['ID'] = nodes_coords['ID'].str.extract(r'N(\\d+)')[0].astype(int).apply(lambda x: f'node_{x:02d}')\n"
     ]
    }
   ],
   "source": [
    "file_path = \"TEST_symaug25A.txt\"\n",
    "coords = pd.read_csv(file_path)\n",
    "coords = pd.read_csv(\"TEST_symaug25A.txt\", header=None, usecols=[0, 1, 2])\n",
    "coords.columns = ['ID', 'Northing', 'Easting']\n",
    "nodes_coords = coords.iloc[:no_of_nodes]\n",
    "nodes_coords['ID'] = nodes_coords['ID'].str.extract(r'N(\\d+)')[0].astype(int).apply(lambda x: f'node_{x:02d}')\n",
    "\n",
    "\n",
    "shots_coords = coords.iloc[no_of_nodes+1:]"
   ]
  },
  {
   "cell_type": "code",
   "execution_count": 6,
   "id": "9988640e-0358-4b13-8ad8-ee519c66b056",
   "metadata": {},
   "outputs": [],
   "source": [
    "for node_id, stream in node_streams.items():\n",
    "    stream.merge()\n",
    "    northing = nodes_coords.loc[nodes_coords[\"ID\"] == node_id, \"Northing\"].values[0]\n",
    "    easting = nodes_coords.loc[nodes_coords[\"ID\"] == node_id, \"Easting\"].values[0]\n",
    "    for tr in stream:    \n",
    "        tr.stats.coordinates = {\"x\": easting, \"y\": northing}    "
   ]
  },
  {
   "cell_type": "markdown",
   "id": "9271d01e-cbfb-4ec3-aef7-92c8066bae8e",
   "metadata": {},
   "source": [
    "## Loading shot times and information"
   ]
  },
  {
   "cell_type": "code",
   "execution_count": 7,
   "id": "612f482b-dea9-496e-8728-5fa6a876130d",
   "metadata": {},
   "outputs": [],
   "source": [
    "# Read in shot gathers\n",
    "shot_log = pd.read_csv(\"shot_information.txt\")\n",
    "shot_log.head(5)\n",
    "\n",
    "shot_log_ordered = (shot_log.sort_values(by = [\"POINT\", \"PINDEX\"]))\n",
    "\n",
    "shot_log_ordered_and_filtered = shot_log_ordered[shot_log_ordered[\"PINDEX\"]<=20]"
   ]
  },
  {
   "cell_type": "code",
   "execution_count": 8,
   "id": "0c36fa88-7716-4b9e-8273-a4ed253bf505",
   "metadata": {},
   "outputs": [],
   "source": [
    "shot_points = np.arange(9, 70, 4) # shot point 9 is the first (it is normally 1 but I omitted these). \n",
    "\n",
    "for shot in shot_points:\n",
    "    point_df = shot_log_ordered_and_filtered[shot_log_ordered_and_filtered[\"POINT\"]==shot]\n",
    "    point_df_hammer = point_df[(point_df[\"PINDEX\"] >=1) & (point_df[\"PINDEX\"] <11)]\n",
    "    point_df_peg = point_df[(point_df[\"PINDEX\"] >=11) & (point_df[\"PINDEX\"] <=20)]\n",
    "    output_folder = f\"Spoint_{shot:02d}\"\n",
    "    os.makedirs(output_folder, exist_ok=True)\n",
    "    for i, datetime in enumerate(np.array(point_df_peg['UTC']), start=1):\n",
    "        shot_time = UTCDateTime(datetime)\n",
    "        window_start = shot_time\n",
    "        window_end = shot_time + 0.6\n",
    "        stream = obspy.Stream([s[0] for s in node_streams.values()])\n",
    "        sliced = stream.slice(starttime=window_start, endtime=window_end)\n",
    "        output_path = os.path.join(output_folder, f\"point_{shot:02d}_peg_hit_{i:02d}.segy\")\n",
    "        sliced.write(output_path, format=\"SEGY\")\n",
    "\n",
    "    for i, datetime in enumerate(np.array(point_df_hammer['UTC']), start=1):\n",
    "        shot_time = UTCDateTime(datetime)\n",
    "        window_start = shot_time\n",
    "        window_end = shot_time + 0.6    # length of time (ms) that is exported from smartsolo products\n",
    "        stream = obspy.Stream([s[0] for s in node_streams.values()])\n",
    "        sliced = stream.slice(starttime=window_start, endtime=window_end)\n",
    "        output_path = os.path.join(output_folder, f\"point_{shot:02d}_hammer_hit_{i:02d}.segy\")\n",
    "        sliced.write(output_path, format=\"SEGY\")\n",
    "    "
   ]
  },
  {
   "cell_type": "code",
   "execution_count": 9,
   "id": "0170df3e-d695-4262-b9f0-302e96b731a6",
   "metadata": {},
   "outputs": [],
   "source": [
    "# Create output folders\n",
    "os.makedirs(\"S_stacked_shots/peg\", exist_ok=True)\n",
    "os.makedirs(\"S_stacked_shots/hammer\", exist_ok=True)"
   ]
  },
  {
   "cell_type": "code",
   "execution_count": 10,
   "id": "595237e8-03e3-4780-bf42-45250b44a73e",
   "metadata": {},
   "outputs": [],
   "source": [
    "# Loop through all shot folders\n",
    "for shot_folder in sorted(glob.glob(\"Spoint_*\")):\n",
    "    shot_id = shot_folder.split(\"_\")[1]  \n",
    "\n",
    "    # Stack PEG hits\n",
    "    peg_files = sorted(glob.glob(f\"{shot_folder}/point_{shot_id}_peg_hit_*.segy\"))\n",
    "    if peg_files:\n",
    "        peg_streams = [read(fp, format=\"SEGY\") for fp in peg_files]\n",
    "        stacked_peg = Stream()\n",
    "        for i in range(len(peg_streams[0])):\n",
    "            traces = [st[i] for st in peg_streams]\n",
    "            stacked_data = np.mean([tr.data for tr in traces], axis=0)\n",
    "            stacked_trace = traces[0].copy()\n",
    "            stacked_trace.data = stacked_data\n",
    "            stacked_peg.append(stacked_trace)\n",
    "        stacked_peg.write(f\"S_stacked_shots/peg/stacked_peg_point_{shot_id}.sgy\", format=\"SEGY\")   # Refrapy only registers segy files with the '.sgy' format\n",
    "\n",
    "    # Stack HAMMER hits\n",
    "    hammer_files = sorted(glob.glob(f\"{shot_folder}/point_{shot_id}_hammer_hit_*.segy\"))\n",
    "    if hammer_files:\n",
    "        hammer_streams = [read(fp, format=\"SEGY\") for fp in hammer_files]\n",
    "        stacked_hammer = Stream()\n",
    "        for i in range(len(hammer_streams[0])):\n",
    "            traces = [st[i] for st in hammer_streams]\n",
    "            stacked_data = np.mean([tr.data for tr in traces], axis=0)\n",
    "            stacked_trace = traces[0].copy()\n",
    "            stacked_trace.data = stacked_data\n",
    "            stacked_hammer.append(stacked_trace)\n",
    "        stacked_hammer.write(f\"S_stacked_shots/hammer/stacked_hammer_point_{shot_id}.sgy\", format=\"SEGY\")"
   ]
  }
 ],
 "metadata": {
  "kernelspec": {
   "display_name": "pg",
   "language": "python",
   "name": "pg"
  },
  "language_info": {
   "codemirror_mode": {
    "name": "ipython",
    "version": 3
   },
   "file_extension": ".py",
   "mimetype": "text/x-python",
   "name": "python",
   "nbconvert_exporter": "python",
   "pygments_lexer": "ipython3",
   "version": "3.11.13"
  }
 },
 "nbformat": 4,
 "nbformat_minor": 5
}
